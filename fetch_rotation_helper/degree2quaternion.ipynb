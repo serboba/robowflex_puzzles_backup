{
 "cells": [
  {
   "cell_type": "code",
   "execution_count": 6,
   "id": "fe7546d2",
   "metadata": {},
   "outputs": [],
   "source": [
    "import numpy as np\n",
    "from scipy.spatial.transform import Rotation"
   ]
  },
  {
   "cell_type": "code",
   "execution_count": 7,
   "id": "4ff0ce7e",
   "metadata": {},
   "outputs": [],
   "source": [
    "#CALC NEW ROTATION"
   ]
  },
  {
   "cell_type": "code",
   "execution_count": 8,
   "id": "6b04d403",
   "metadata": {},
   "outputs": [],
   "source": [
    "def get_rotation2(heading, attitude, bank):\n",
    "    c1 = np.cos(heading/2)\n",
    "    c2=  np.cos(attitude/2)    \n",
    "    c3 = np.cos(bank/2)\n",
    "\n",
    "    s1 = np.sin(heading/2)\n",
    "    s2 = np.sin(attitude/2)\n",
    "    s3 = np.sin(bank/2)\n",
    "    \n",
    "    values(c1,c2,c3,s1,s2,s3)\n",
    "    "
   ]
  },
  {
   "cell_type": "code",
   "execution_count": 9,
   "id": "ba6df230",
   "metadata": {},
   "outputs": [],
   "source": [
    "def get_rotation(yaw, pitch, roll):\n",
    "    # \n",
    "    c1 = np.cos(np.radians(pitch/2))\n",
    "    c2=  np.cos(np.radians(yaw/2))    \n",
    "    c3 = np.cos(np.radians(roll/2))\n",
    "\n",
    "    s1 = np.sin(np.radians(pitch/2))\n",
    "    s2 = np.sin(np.radians(yaw/2))\n",
    "    s3 = np.sin(np.radians(roll/2))\n",
    "    \n",
    "    values(c1,c2,c3,s1,s2,s3)\n",
    "    "
   ]
  },
  {
   "cell_type": "code",
   "execution_count": 26,
   "id": "ba8f03cc",
   "metadata": {},
   "outputs": [],
   "source": [
    "def values(c1,c2,c3,s1,s2,s3):\n",
    "    w = round(c1*c2*c3 - s1*s2*s3,4)\n",
    "    x = round(s1*s2*c3 + c1*c2*s3,4)\n",
    "    y = round(s1*c2*c3 + c1*s2*s3,4)\n",
    "    z = round(c1*s2*c3 - s1*c2*s3,4)\n",
    "    print(\"x : \", round(x,4))\n",
    "    print(\"y : \", round(y,4))\n",
    "    print(\"z : \", round(z,4))\n",
    "    print(\"w : \", round(w,4))\n",
    "    \n",
    "    print(w, \",\",x,\",\",y,\",\",z)\n",
    "    getDeg(w,x,y,z)\n",
    "    "
   ]
  },
  {
   "cell_type": "code",
   "execution_count": 27,
   "id": "73b7e1b2",
   "metadata": {},
   "outputs": [],
   "source": [
    "def getDeg(w,x,y,z):\n",
    "    if((x*y +z*w) == 0.5):\n",
    "        yaw = np.arcsin(2*x*y + 2*z*w)\n",
    "        pitch = 2*np.arctan2(x,w)\n",
    "        roll = 0;\n",
    "    elif((x*y +z*w) == -0.5):\n",
    "        yaw = np.arcsin(2*x*y + 2*z*w)\n",
    "        \n",
    "        pitch = -2*np.arctan2(x,w)\n",
    "        roll = 0\n",
    "    else:  \n",
    "        yaw = np.arcsin(2*x*y + 2*z*w)\n",
    "        pitch = np.arctan2(2*y*w -2*x*z , 1 - 2*y**2 - 2*z**2)\n",
    "        roll = np.arctan2(2*x*w -2*y*z , 1 - 2*x**2 - 2*z**2)\n",
    "    print(\"yaw - z-axis : \", yaw)\n",
    "    print(\"pitch y-axis: \", pitch)\n",
    "    print(\"roll  x-axis: \", roll)\n",
    "    \n",
    "        "
   ]
  },
  {
   "cell_type": "code",
   "execution_count": 29,
   "id": "7ea754e7",
   "metadata": {
    "scrolled": false
   },
   "outputs": [
    {
     "name": "stdout",
     "output_type": "stream",
     "text": [
      "x :  0.0\n",
      "y :  0.7071\n",
      "z :  0.0\n",
      "w :  0.7071\n",
      "0.7071 , 0.0 , 0.7071 , 0.0\n",
      "yaw - z-axis :  0.0\n",
      "pitch y-axis:  1.5707771464270195\n",
      "roll  x-axis:  0.0\n"
     ]
    }
   ],
   "source": [
    "# yaw- pitch - roll  z-y-x\n",
    "get_rotation(0,90,0)"
   ]
  },
  {
   "cell_type": "code",
   "execution_count": 15,
   "id": "7272c406",
   "metadata": {},
   "outputs": [
    {
     "name": "stdout",
     "output_type": "stream",
     "text": [
      "yaw - z-axis :  0.0\n",
      "pitch y-axis:  1.5707771464270195\n",
      "roll  x-axis:  3.141592653589793\n"
     ]
    }
   ],
   "source": [
    "getDeg(0,0.7071,0,-0.7071)"
   ]
  },
  {
   "cell_type": "code",
   "execution_count": null,
   "id": "b68d7ba4",
   "metadata": {},
   "outputs": [],
   "source": []
  },
  {
   "cell_type": "code",
   "execution_count": null,
   "id": "8b1ce219",
   "metadata": {},
   "outputs": [],
   "source": []
  },
  {
   "cell_type": "code",
   "execution_count": null,
   "id": "fc672d3f",
   "metadata": {},
   "outputs": [],
   "source": []
  },
  {
   "cell_type": "code",
   "execution_count": null,
   "id": "2a4b24ba",
   "metadata": {},
   "outputs": [],
   "source": []
  },
  {
   "cell_type": "code",
   "execution_count": null,
   "id": "944c30a5",
   "metadata": {},
   "outputs": [],
   "source": []
  },
  {
   "cell_type": "code",
   "execution_count": null,
   "id": "6a364050",
   "metadata": {},
   "outputs": [],
   "source": []
  },
  {
   "cell_type": "code",
   "execution_count": null,
   "id": "daa5c68d",
   "metadata": {},
   "outputs": [],
   "source": []
  }
 ],
 "metadata": {
  "kernelspec": {
   "display_name": "Python 3 (ipykernel)",
   "language": "python",
   "name": "python3"
  },
  "language_info": {
   "codemirror_mode": {
    "name": "ipython",
    "version": 3
   },
   "file_extension": ".py",
   "mimetype": "text/x-python",
   "name": "python",
   "nbconvert_exporter": "python",
   "pygments_lexer": "ipython3",
   "version": "3.9.7"
  }
 },
 "nbformat": 4,
 "nbformat_minor": 5
}
